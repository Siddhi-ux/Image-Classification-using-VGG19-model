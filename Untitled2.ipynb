{
  "nbformat": 4,
  "nbformat_minor": 0,
  "metadata": {
    "colab": {
      "provenance": [],
      "mount_file_id": "1kmAsuJajuXAT56iKCmxosgitPbMulAm7",
      "authorship_tag": "ABX9TyP4eZyaq1pUjnXYiO1gBjYR",
      "include_colab_link": true
    },
    "kernelspec": {
      "name": "python3",
      "display_name": "Python 3"
    },
    "language_info": {
      "name": "python"
    }
  },
  "cells": [
    {
      "cell_type": "markdown",
      "metadata": {
        "id": "view-in-github",
        "colab_type": "text"
      },
      "source": [
        "<a href=\"https://colab.research.google.com/github/Siddhi-ux/Image-Classification-using-VGG19-model/blob/main/Untitled2.ipynb\" target=\"_parent\"><img src=\"https://colab.research.google.com/assets/colab-badge.svg\" alt=\"Open In Colab\"/></a>"
      ]
    },
    {
      "cell_type": "code",
      "execution_count": null,
      "metadata": {
        "id": "CS0yUxqEUKE2"
      },
      "outputs": [],
      "source": [
        "from tensorflow.keras.applications import VGG16\n",
        "from tensorflow.keras.applications import VGG19\n",
        "from tensorflow.keras.layers import Input,Dense,Flatten\n",
        "from tensorflow.keras.preprocessing.image import ImageDataGenerator,load_img\n",
        "from tensorflow.keras.models import Model,Sequential"
      ]
    },
    {
      "cell_type": "code",
      "source": [
        "image_size=[227,227]\n",
        "model=VGG16(input_shape=image_size+[3],include_top=False,weights=\"imagenet\")"
      ],
      "metadata": {
        "colab": {
          "base_uri": "https://localhost:8080/"
        },
        "id": "F9ipXbU-VP0x",
        "outputId": "76b9c58c-f152-45d7-d87a-6198e66aac92"
      },
      "execution_count": null,
      "outputs": [
        {
          "output_type": "stream",
          "name": "stdout",
          "text": [
            "Downloading data from https://storage.googleapis.com/tensorflow/keras-applications/vgg16/vgg16_weights_tf_dim_ordering_tf_kernels_notop.h5\n",
            "58892288/58889256 [==============================] - 0s 0us/step\n",
            "58900480/58889256 [==============================] - 0s 0us/step\n"
          ]
        }
      ]
    },
    {
      "cell_type": "code",
      "source": [
        "model.summary()"
      ],
      "metadata": {
        "colab": {
          "base_uri": "https://localhost:8080/"
        },
        "id": "EcOWYBYpVue5",
        "outputId": "31a32f88-6db0-4bc7-a81d-db3c61247ce9"
      },
      "execution_count": null,
      "outputs": [
        {
          "output_type": "stream",
          "name": "stdout",
          "text": [
            "Model: \"vgg16\"\n",
            "_________________________________________________________________\n",
            " Layer (type)                Output Shape              Param #   \n",
            "=================================================================\n",
            " input_1 (InputLayer)        [(None, 227, 227, 3)]     0         \n",
            "                                                                 \n",
            " block1_conv1 (Conv2D)       (None, 227, 227, 64)      1792      \n",
            "                                                                 \n",
            " block1_conv2 (Conv2D)       (None, 227, 227, 64)      36928     \n",
            "                                                                 \n",
            " block1_pool (MaxPooling2D)  (None, 113, 113, 64)      0         \n",
            "                                                                 \n",
            " block2_conv1 (Conv2D)       (None, 113, 113, 128)     73856     \n",
            "                                                                 \n",
            " block2_conv2 (Conv2D)       (None, 113, 113, 128)     147584    \n",
            "                                                                 \n",
            " block2_pool (MaxPooling2D)  (None, 56, 56, 128)       0         \n",
            "                                                                 \n",
            " block3_conv1 (Conv2D)       (None, 56, 56, 256)       295168    \n",
            "                                                                 \n",
            " block3_conv2 (Conv2D)       (None, 56, 56, 256)       590080    \n",
            "                                                                 \n",
            " block3_conv3 (Conv2D)       (None, 56, 56, 256)       590080    \n",
            "                                                                 \n",
            " block3_pool (MaxPooling2D)  (None, 28, 28, 256)       0         \n",
            "                                                                 \n",
            " block4_conv1 (Conv2D)       (None, 28, 28, 512)       1180160   \n",
            "                                                                 \n",
            " block4_conv2 (Conv2D)       (None, 28, 28, 512)       2359808   \n",
            "                                                                 \n",
            " block4_conv3 (Conv2D)       (None, 28, 28, 512)       2359808   \n",
            "                                                                 \n",
            " block4_pool (MaxPooling2D)  (None, 14, 14, 512)       0         \n",
            "                                                                 \n",
            " block5_conv1 (Conv2D)       (None, 14, 14, 512)       2359808   \n",
            "                                                                 \n",
            " block5_conv2 (Conv2D)       (None, 14, 14, 512)       2359808   \n",
            "                                                                 \n",
            " block5_conv3 (Conv2D)       (None, 14, 14, 512)       2359808   \n",
            "                                                                 \n",
            " block5_pool (MaxPooling2D)  (None, 7, 7, 512)         0         \n",
            "                                                                 \n",
            "=================================================================\n",
            "Total params: 14,714,688\n",
            "Trainable params: 14,714,688\n",
            "Non-trainable params: 0\n",
            "_________________________________________________________________\n"
          ]
        }
      ]
    },
    {
      "cell_type": "code",
      "source": [
        "for layers in  model.layers:\n",
        "  layers.trainable=False"
      ],
      "metadata": {
        "id": "gAe0GQyMV57D"
      },
      "execution_count": null,
      "outputs": []
    },
    {
      "cell_type": "code",
      "source": [
        "final_arc=Model(inputs=model.input ,outputs=Dense(1,activation=\"sigmoid\")(Flatten()(model.output)))"
      ],
      "metadata": {
        "id": "pWS5w4RKWHN3"
      },
      "execution_count": null,
      "outputs": []
    },
    {
      "cell_type": "code",
      "source": [
        "final_arc.summary()"
      ],
      "metadata": {
        "colab": {
          "base_uri": "https://localhost:8080/"
        },
        "id": "OAsQNOXYXMSs",
        "outputId": "b03994e4-8486-4ce9-d016-7f5b9748f8ca"
      },
      "execution_count": null,
      "outputs": [
        {
          "output_type": "stream",
          "name": "stdout",
          "text": [
            "Model: \"model\"\n",
            "_________________________________________________________________\n",
            " Layer (type)                Output Shape              Param #   \n",
            "=================================================================\n",
            " input_1 (InputLayer)        [(None, 227, 227, 3)]     0         \n",
            "                                                                 \n",
            " block1_conv1 (Conv2D)       (None, 227, 227, 64)      1792      \n",
            "                                                                 \n",
            " block1_conv2 (Conv2D)       (None, 227, 227, 64)      36928     \n",
            "                                                                 \n",
            " block1_pool (MaxPooling2D)  (None, 113, 113, 64)      0         \n",
            "                                                                 \n",
            " block2_conv1 (Conv2D)       (None, 113, 113, 128)     73856     \n",
            "                                                                 \n",
            " block2_conv2 (Conv2D)       (None, 113, 113, 128)     147584    \n",
            "                                                                 \n",
            " block2_pool (MaxPooling2D)  (None, 56, 56, 128)       0         \n",
            "                                                                 \n",
            " block3_conv1 (Conv2D)       (None, 56, 56, 256)       295168    \n",
            "                                                                 \n",
            " block3_conv2 (Conv2D)       (None, 56, 56, 256)       590080    \n",
            "                                                                 \n",
            " block3_conv3 (Conv2D)       (None, 56, 56, 256)       590080    \n",
            "                                                                 \n",
            " block3_pool (MaxPooling2D)  (None, 28, 28, 256)       0         \n",
            "                                                                 \n",
            " block4_conv1 (Conv2D)       (None, 28, 28, 512)       1180160   \n",
            "                                                                 \n",
            " block4_conv2 (Conv2D)       (None, 28, 28, 512)       2359808   \n",
            "                                                                 \n",
            " block4_conv3 (Conv2D)       (None, 28, 28, 512)       2359808   \n",
            "                                                                 \n",
            " block4_pool (MaxPooling2D)  (None, 14, 14, 512)       0         \n",
            "                                                                 \n",
            " block5_conv1 (Conv2D)       (None, 14, 14, 512)       2359808   \n",
            "                                                                 \n",
            " block5_conv2 (Conv2D)       (None, 14, 14, 512)       2359808   \n",
            "                                                                 \n",
            " block5_conv3 (Conv2D)       (None, 14, 14, 512)       2359808   \n",
            "                                                                 \n",
            " block5_pool (MaxPooling2D)  (None, 7, 7, 512)         0         \n",
            "                                                                 \n",
            " flatten_3 (Flatten)         (None, 25088)             0         \n",
            "                                                                 \n",
            " dense_3 (Dense)             (None, 1)                 25089     \n",
            "                                                                 \n",
            "=================================================================\n",
            "Total params: 14,739,777\n",
            "Trainable params: 25,089\n",
            "Non-trainable params: 14,714,688\n",
            "_________________________________________________________________\n"
          ]
        }
      ]
    },
    {
      "cell_type": "code",
      "source": [
        "final_arc.compile(loss=\"binary_crossentropy\",optimizer=\"adam\",metrics=['accuracy'])"
      ],
      "metadata": {
        "id": "rld1MYbtXfqz"
      },
      "execution_count": null,
      "outputs": []
    },
    {
      "cell_type": "code",
      "source": [
        "from google.colab import drive\n",
        "drive.mount('/content/drive')"
      ],
      "metadata": {
        "colab": {
          "base_uri": "https://localhost:8080/"
        },
        "id": "V7KoL-uxcw6z",
        "outputId": "b6825a23-f479-47fd-a4fa-1e4042039f45"
      },
      "execution_count": null,
      "outputs": [
        {
          "output_type": "stream",
          "name": "stdout",
          "text": [
            "Drive already mounted at /content/drive; to attempt to forcibly remount, call drive.mount(\"/content/drive\", force_remount=True).\n"
          ]
        }
      ]
    },
    {
      "cell_type": "code",
      "source": [
        "train_path=\"/content/drive/MyDrive/New folder/train\"\n",
        "test_path=\"/content/drive/MyDrive/New folder/test\""
      ],
      "metadata": {
        "id": "J8t6SXfLZuJd"
      },
      "execution_count": null,
      "outputs": []
    },
    {
      "cell_type": "code",
      "source": [
        "train_augmen=ImageDataGenerator(rescale=1./255,zoom_range=0.2,shear_range=0.3,horizontal_flip=True)\n",
        "test_augmen=ImageDataGenerator(rescale=1./255)"
      ],
      "metadata": {
        "id": "4BIhA5c1agcZ"
      },
      "execution_count": null,
      "outputs": []
    },
    {
      "cell_type": "code",
      "source": [
        "final_train=train_augmen.flow_from_directory(train_path,target_size=(227,227),batch_size=2,class_mode='binary')"
      ],
      "metadata": {
        "colab": {
          "base_uri": "https://localhost:8080/"
        },
        "id": "dPoSL1xMbtdR",
        "outputId": "ee57b423-f8d6-45f0-c15d-2b4cb9198741"
      },
      "execution_count": null,
      "outputs": [
        {
          "output_type": "stream",
          "name": "stdout",
          "text": [
            "Found 0 images belonging to 2 classes.\n"
          ]
        }
      ]
    },
    {
      "cell_type": "code",
      "source": [
        "final_test=test_augmen.flow_from_directory(test_path,target_size=(227,227),batch_size=2,class_mode='binary')"
      ],
      "metadata": {
        "colab": {
          "base_uri": "https://localhost:8080/"
        },
        "id": "tyf6BFr-eN_h",
        "outputId": "51d95107-e738-4e83-a8d8-64f6a832f1e2"
      },
      "execution_count": null,
      "outputs": [
        {
          "output_type": "stream",
          "name": "stdout",
          "text": [
            "Found 0 images belonging to 2 classes.\n"
          ]
        }
      ]
    },
    {
      "cell_type": "code",
      "source": [
        "vgg19=final_arc.fit_generator(final_train,epochs=50,steps_per_epoch=20,validation_data=final_test)"
      ],
      "metadata": {
        "id": "6JuSUWn_kOHs"
      },
      "execution_count": null,
      "outputs": []
    },
    {
      "cell_type": "code",
      "source": [
        "import numpy as np\n",
        "from tensorflow.keras.preprocessing import image\n",
        "img=image.load_img('/content/drive/MyDrive/New folder/test/cat/download.jfif',target_size=(227,227))"
      ],
      "metadata": {
        "id": "vFjJjy1Yiht8"
      },
      "execution_count": null,
      "outputs": []
    },
    {
      "cell_type": "code",
      "source": [
        "image_Array=image.img_to_array(img)\n",
        "image_Array=np.expand_dims(image_Array/255,axis=0)"
      ],
      "metadata": {
        "id": "iX0dWaybjbON"
      },
      "execution_count": null,
      "outputs": []
    },
    {
      "cell_type": "code",
      "source": [
        "model.predict(image_Array)"
      ],
      "metadata": {
        "colab": {
          "base_uri": "https://localhost:8080/"
        },
        "id": "p4whXFoxjxHB",
        "outputId": "325d2800-75f5-43ed-d3a1-bdeb3a6da699"
      },
      "execution_count": null,
      "outputs": [
        {
          "output_type": "execute_result",
          "data": {
            "text/plain": [
              "array([[[[0.        , 0.        , 0.        , ..., 0.        ,\n",
              "          1.0183799 , 0.        ],\n",
              "         [0.        , 0.        , 0.        , ..., 0.        ,\n",
              "          0.78361404, 0.        ],\n",
              "         [0.17013596, 0.        , 0.        , ..., 0.        ,\n",
              "          0.7684852 , 0.        ],\n",
              "         ...,\n",
              "         [0.03285722, 0.        , 0.        , ..., 0.        ,\n",
              "          0.2200287 , 0.        ],\n",
              "         [0.        , 0.        , 0.        , ..., 0.        ,\n",
              "          0.6709553 , 0.        ],\n",
              "         [0.        , 0.        , 0.        , ..., 0.        ,\n",
              "          0.56834537, 0.        ]],\n",
              "\n",
              "        [[1.2831532 , 0.        , 0.        , ..., 0.        ,\n",
              "          0.97684526, 0.        ],\n",
              "         [0.9992051 , 0.        , 0.        , ..., 0.        ,\n",
              "          0.        , 0.        ],\n",
              "         [0.40075982, 0.        , 0.6221286 , ..., 0.        ,\n",
              "          0.5644089 , 0.        ],\n",
              "         ...,\n",
              "         [0.        , 0.        , 0.        , ..., 0.        ,\n",
              "          0.12050366, 0.        ],\n",
              "         [0.        , 0.        , 0.        , ..., 0.        ,\n",
              "          0.61204875, 0.        ],\n",
              "         [0.        , 0.        , 0.        , ..., 0.        ,\n",
              "          0.662431  , 0.        ]],\n",
              "\n",
              "        [[1.3147243 , 0.        , 0.13227019, ..., 0.        ,\n",
              "          0.7597065 , 0.        ],\n",
              "         [1.0543834 , 0.        , 0.08381471, ..., 0.        ,\n",
              "          0.04773378, 0.        ],\n",
              "         [0.        , 0.        , 0.        , ..., 0.        ,\n",
              "          0.45059922, 0.        ],\n",
              "         ...,\n",
              "         [0.        , 0.        , 0.        , ..., 0.        ,\n",
              "          0.        , 0.        ],\n",
              "         [0.        , 0.        , 0.        , ..., 0.23845482,\n",
              "          0.19464594, 0.        ],\n",
              "         [0.        , 0.        , 0.        , ..., 0.        ,\n",
              "          0.47112793, 0.        ]],\n",
              "\n",
              "        ...,\n",
              "\n",
              "        [[0.2136477 , 0.        , 0.44282818, ..., 0.        ,\n",
              "          0.98119056, 0.        ],\n",
              "         [1.208464  , 0.        , 0.13462257, ..., 0.        ,\n",
              "          0.87435603, 0.        ],\n",
              "         [1.2433398 , 0.        , 0.        , ..., 0.        ,\n",
              "          0.33333004, 0.        ],\n",
              "         ...,\n",
              "         [0.90895545, 0.        , 0.        , ..., 0.        ,\n",
              "          0.        , 0.        ],\n",
              "         [0.08794811, 0.        , 0.        , ..., 0.        ,\n",
              "          0.        , 0.        ],\n",
              "         [0.        , 0.        , 0.        , ..., 0.        ,\n",
              "          0.4190336 , 0.        ]],\n",
              "\n",
              "        [[0.        , 0.        , 0.3234582 , ..., 0.        ,\n",
              "          0.97709584, 0.        ],\n",
              "         [0.5871389 , 0.        , 0.        , ..., 0.        ,\n",
              "          1.1286612 , 0.        ],\n",
              "         [0.8504514 , 0.        , 0.        , ..., 0.        ,\n",
              "          0.8983099 , 0.        ],\n",
              "         ...,\n",
              "         [0.52485776, 0.        , 0.        , ..., 0.00801016,\n",
              "          0.37358195, 0.        ],\n",
              "         [0.5223584 , 0.        , 0.        , ..., 0.        ,\n",
              "          0.00288725, 0.        ],\n",
              "         [0.        , 0.        , 0.        , ..., 0.        ,\n",
              "          0.5012024 , 0.        ]],\n",
              "\n",
              "        [[0.        , 0.        , 0.29427183, ..., 0.06326179,\n",
              "          0.90301543, 0.        ],\n",
              "         [0.        , 0.        , 0.07915702, ..., 0.02285289,\n",
              "          0.9472997 , 0.        ],\n",
              "         [0.07736842, 0.        , 0.        , ..., 0.        ,\n",
              "          1.0086931 , 0.        ],\n",
              "         ...,\n",
              "         [0.30661768, 0.        , 0.19824299, ..., 0.        ,\n",
              "          0.8934809 , 0.        ],\n",
              "         [0.20696077, 0.        , 0.17367247, ..., 0.        ,\n",
              "          0.54524946, 0.        ],\n",
              "         [0.        , 0.        , 0.0804047 , ..., 0.        ,\n",
              "          0.6097579 , 0.        ]]]], dtype=float32)"
            ]
          },
          "metadata": {},
          "execution_count": 39
        }
      ]
    }
  ]
}